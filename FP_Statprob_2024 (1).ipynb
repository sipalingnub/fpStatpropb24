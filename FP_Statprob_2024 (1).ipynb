{
 "cells": [
  {
   "cell_type": "code",
   "execution_count": 1,
   "metadata": {
    "id": "GoJuH0qNv2x0"
   },
   "outputs": [],
   "source": [
    "# libraries import\n",
    "import pandas as pd\n",
    "import numpy as np\n",
    "import matplotlib.pyplot as plt\n",
    "import seaborn as sns"
   ]
  },
  {
   "cell_type": "code",
   "execution_count": 2,
   "metadata": {},
   "outputs": [
    {
     "name": "stdout",
     "output_type": "stream",
     "text": [
      "Defaulting to user installation because normal site-packages is not writeable\n",
      "Requirement already satisfied: kaggle in c:\\users\\jonat\\appdata\\roaming\\python\\python312\\site-packages (1.6.17)\n",
      "Requirement already satisfied: six>=1.10 in h:\\jonathan\\softwares\\anaconda\\newprogram\\lib\\site-packages (from kaggle) (1.16.0)\n",
      "Requirement already satisfied: certifi>=2023.7.22 in h:\\jonathan\\softwares\\anaconda\\newprogram\\lib\\site-packages (from kaggle) (2024.8.30)\n",
      "Requirement already satisfied: python-dateutil in h:\\jonathan\\softwares\\anaconda\\newprogram\\lib\\site-packages (from kaggle) (2.9.0.post0)\n",
      "Requirement already satisfied: requests in h:\\jonathan\\softwares\\anaconda\\newprogram\\lib\\site-packages (from kaggle) (2.32.2)\n",
      "Requirement already satisfied: tqdm in h:\\jonathan\\softwares\\anaconda\\newprogram\\lib\\site-packages (from kaggle) (4.66.4)\n",
      "Requirement already satisfied: python-slugify in h:\\jonathan\\softwares\\anaconda\\newprogram\\lib\\site-packages (from kaggle) (5.0.2)\n",
      "Requirement already satisfied: urllib3 in h:\\jonathan\\softwares\\anaconda\\newprogram\\lib\\site-packages (from kaggle) (2.2.2)\n",
      "Requirement already satisfied: bleach in h:\\jonathan\\softwares\\anaconda\\newprogram\\lib\\site-packages (from kaggle) (4.1.0)\n",
      "Requirement already satisfied: packaging in h:\\jonathan\\softwares\\anaconda\\newprogram\\lib\\site-packages (from bleach->kaggle) (23.2)\n",
      "Requirement already satisfied: webencodings in h:\\jonathan\\softwares\\anaconda\\newprogram\\lib\\site-packages (from bleach->kaggle) (0.5.1)\n",
      "Requirement already satisfied: text-unidecode>=1.3 in h:\\jonathan\\softwares\\anaconda\\newprogram\\lib\\site-packages (from python-slugify->kaggle) (1.3)\n",
      "Requirement already satisfied: charset-normalizer<4,>=2 in h:\\jonathan\\softwares\\anaconda\\newprogram\\lib\\site-packages (from requests->kaggle) (2.0.4)\n",
      "Requirement already satisfied: idna<4,>=2.5 in h:\\jonathan\\softwares\\anaconda\\newprogram\\lib\\site-packages (from requests->kaggle) (3.7)\n",
      "Requirement already satisfied: colorama in h:\\jonathan\\softwares\\anaconda\\newprogram\\lib\\site-packages (from tqdm->kaggle) (0.4.6)\n",
      "Note: you may need to restart the kernel to use updated packages.\n"
     ]
    }
   ],
   "source": [
    "# run the following command to install the kaggle package\n",
    "# note: needs pip installed on user's system first to run this command\n",
    "%pip install kaggle"
   ]
  },
  {
   "cell_type": "code",
   "execution_count": null,
   "metadata": {},
   "outputs": [
    {
     "name": "stdout",
     "output_type": "stream",
     "text": [
      "KAGGLE_CONFIG_DIR: h:\\Jonathan\\CollegeLive\\CollegeProgramming\\StatProb\\fpStatpropb24\\API\n",
      "{'username': 'jozeli', 'key': '99d807daa390aaef8a27a3cf475d4eb2'}\n"
     ]
    },
    {
     "ename": "AttributeError",
     "evalue": "'str' object has no attribute 'username'",
     "output_type": "error",
     "traceback": [
      "\u001b[1;31m---------------------------------------------------------------------------\u001b[0m",
      "\u001b[1;31mAttributeError\u001b[0m                            Traceback (most recent call last)",
      "Cell \u001b[1;32mIn[30], line 27\u001b[0m\n\u001b[0;32m     24\u001b[0m api \u001b[38;5;241m=\u001b[39m KaggleApi()\n\u001b[0;32m     26\u001b[0m \u001b[38;5;66;03m# Manually set the configuration parameters\u001b[39;00m\n\u001b[1;32m---> 27\u001b[0m api\u001b[38;5;241m.\u001b[39mconfig\u001b[38;5;241m.\u001b[39musername \u001b[38;5;241m=\u001b[39m config\n\u001b[0;32m     28\u001b[0m api\u001b[38;5;241m.\u001b[39mconfig\u001b[38;5;241m.\u001b[39mkey \u001b[38;5;241m=\u001b[39m config[\u001b[38;5;124m'\u001b[39m\u001b[38;5;124mkey\u001b[39m\u001b[38;5;124m'\u001b[39m]\n\u001b[0;32m     30\u001b[0m \u001b[38;5;66;03m# Authenticate the Kaggle API\u001b[39;00m\n",
      "\u001b[1;31mAttributeError\u001b[0m: 'str' object has no attribute 'username'"
     ]
    }
   ],
   "source": [
    "import os\n",
    "from kaggle.api.kaggle_api_extended import KaggleApi\n",
    "import pandas as pd\n",
    "import json\n",
    "\n",
    "# Set the environment variable to point to the \"API\" folder in the current working directory\n",
    "os.environ['KAGGLE_CONFIG_DIR'] = os.path.join(os.getcwd(), 'API')\n",
    "\n",
    "# Verify that the environment variable is set correctly\n",
    "print(\"KAGGLE_CONFIG_DIR:\", os.environ['KAGGLE_CONFIG_DIR'])\n",
    "\n",
    "# Check if the kaggle.json file exists in the specified directory\n",
    "config_path = os.path.join(os.environ['KAGGLE_CONFIG_DIR'], 'kaggle.json')\n",
    "if not os.path.exists(config_path):\n",
    "    raise FileNotFoundError(f\"Could not find kaggle.json at {config_path}\")\n",
    "\n",
    "# Load the configuration from the kaggle.json file\n",
    "with open(config_path, 'r') as f:\n",
    "    config = json.load(f)\n",
    "\n",
    "print(config)\n",
    "\n",
    "# Initialize the Kaggle API with the loaded configuration\n",
    "api = KaggleApi()\n",
    "\n",
    "# Manually set the configuration parameters\n",
    "api.config.username = config['username']\n",
    "api.config.key = config['key']\n",
    "\n",
    "# Authenticate the Kaggle API\n",
    "api.authenticate()\n",
    "\n",
    "\n",
    "# Define the dataset to download\n",
    "dataset = 'fernandogarciah24/top-1000-imdb-dataset'  # Replace with the actual dataset path from Kaggle"
   ]
  },
  {
   "cell_type": "code",
   "execution_count": null,
   "metadata": {},
   "outputs": [],
   "source": [
    "# Run the folllowing command to download the dataset\n",
    "api.dataset_download_files(dataset, path='data/', unzip=True)"
   ]
  },
  {
   "cell_type": "code",
   "execution_count": 4,
   "metadata": {},
   "outputs": [
    {
     "name": "stderr",
     "output_type": "stream",
     "text": [
      "\n",
      "KeyboardInterrupt\n",
      "\n"
     ]
    }
   ],
   "source": [
    "# Load the dataset into a pandas DataFrame\n",
    "data = pd.read_csv('data/imdb_top_1000.csv') # Replace with the actual dataset file name\n",
    "data.head()"
   ]
  },
  {
   "cell_type": "code",
   "execution_count": 2,
   "metadata": {
    "colab": {
     "base_uri": "https://localhost:8080/",
     "height": 677
    },
    "id": "dpMXqhBR-Obh",
    "outputId": "e72ce11d-fcbb-4f29-f153-04bb6a8441c6"
   },
   "outputs": [
    {
     "ename": "FileNotFoundError",
     "evalue": "[Errno 2] No such file or directory: 'C:\\\\Users\\\\ARUL\\\\Documents\\\\EDUCATIONAL SHIT\\\\kuliah coy\\\\sem 1\\\\FP STATPROB\\\\imdb_top_1000.csv'",
     "output_type": "error",
     "traceback": [
      "\u001b[1;31m---------------------------------------------------------------------------\u001b[0m",
      "\u001b[1;31mFileNotFoundError\u001b[0m                         Traceback (most recent call last)",
      "Cell \u001b[1;32mIn[2], line 4\u001b[0m\n\u001b[0;32m      1\u001b[0m \u001b[38;5;28;01mimport\u001b[39;00m \u001b[38;5;21;01mos\u001b[39;00m\n\u001b[0;32m      3\u001b[0m file_path \u001b[38;5;241m=\u001b[39m \u001b[38;5;124mr\u001b[39m\u001b[38;5;124m'\u001b[39m\u001b[38;5;124mC:\u001b[39m\u001b[38;5;124m\\\u001b[39m\u001b[38;5;124mUsers\u001b[39m\u001b[38;5;124m\\\u001b[39m\u001b[38;5;124mARUL\u001b[39m\u001b[38;5;124m\\\u001b[39m\u001b[38;5;124mDocuments\u001b[39m\u001b[38;5;124m\\\u001b[39m\u001b[38;5;124mEDUCATIONAL SHIT\u001b[39m\u001b[38;5;124m\\\u001b[39m\u001b[38;5;124mkuliah coy\u001b[39m\u001b[38;5;124m\\\u001b[39m\u001b[38;5;124msem 1\u001b[39m\u001b[38;5;124m\\\u001b[39m\u001b[38;5;124mFP STATPROB\u001b[39m\u001b[38;5;124m\\\u001b[39m\u001b[38;5;124mimdb_top_1000.csv\u001b[39m\u001b[38;5;124m'\u001b[39m\n\u001b[1;32m----> 4\u001b[0m data \u001b[38;5;241m=\u001b[39m pd\u001b[38;5;241m.\u001b[39mread_csv(file_path)\n\u001b[0;32m      6\u001b[0m data\u001b[38;5;241m.\u001b[39mhead()\n",
      "File \u001b[1;32mh:\\Jonathan\\Softwares\\Anaconda\\NewProgram\\Lib\\site-packages\\pandas\\io\\parsers\\readers.py:1026\u001b[0m, in \u001b[0;36mread_csv\u001b[1;34m(filepath_or_buffer, sep, delimiter, header, names, index_col, usecols, dtype, engine, converters, true_values, false_values, skipinitialspace, skiprows, skipfooter, nrows, na_values, keep_default_na, na_filter, verbose, skip_blank_lines, parse_dates, infer_datetime_format, keep_date_col, date_parser, date_format, dayfirst, cache_dates, iterator, chunksize, compression, thousands, decimal, lineterminator, quotechar, quoting, doublequote, escapechar, comment, encoding, encoding_errors, dialect, on_bad_lines, delim_whitespace, low_memory, memory_map, float_precision, storage_options, dtype_backend)\u001b[0m\n\u001b[0;32m   1013\u001b[0m kwds_defaults \u001b[38;5;241m=\u001b[39m _refine_defaults_read(\n\u001b[0;32m   1014\u001b[0m     dialect,\n\u001b[0;32m   1015\u001b[0m     delimiter,\n\u001b[1;32m   (...)\u001b[0m\n\u001b[0;32m   1022\u001b[0m     dtype_backend\u001b[38;5;241m=\u001b[39mdtype_backend,\n\u001b[0;32m   1023\u001b[0m )\n\u001b[0;32m   1024\u001b[0m kwds\u001b[38;5;241m.\u001b[39mupdate(kwds_defaults)\n\u001b[1;32m-> 1026\u001b[0m \u001b[38;5;28;01mreturn\u001b[39;00m _read(filepath_or_buffer, kwds)\n",
      "File \u001b[1;32mh:\\Jonathan\\Softwares\\Anaconda\\NewProgram\\Lib\\site-packages\\pandas\\io\\parsers\\readers.py:620\u001b[0m, in \u001b[0;36m_read\u001b[1;34m(filepath_or_buffer, kwds)\u001b[0m\n\u001b[0;32m    617\u001b[0m _validate_names(kwds\u001b[38;5;241m.\u001b[39mget(\u001b[38;5;124m\"\u001b[39m\u001b[38;5;124mnames\u001b[39m\u001b[38;5;124m\"\u001b[39m, \u001b[38;5;28;01mNone\u001b[39;00m))\n\u001b[0;32m    619\u001b[0m \u001b[38;5;66;03m# Create the parser.\u001b[39;00m\n\u001b[1;32m--> 620\u001b[0m parser \u001b[38;5;241m=\u001b[39m TextFileReader(filepath_or_buffer, \u001b[38;5;241m*\u001b[39m\u001b[38;5;241m*\u001b[39mkwds)\n\u001b[0;32m    622\u001b[0m \u001b[38;5;28;01mif\u001b[39;00m chunksize \u001b[38;5;129;01mor\u001b[39;00m iterator:\n\u001b[0;32m    623\u001b[0m     \u001b[38;5;28;01mreturn\u001b[39;00m parser\n",
      "File \u001b[1;32mh:\\Jonathan\\Softwares\\Anaconda\\NewProgram\\Lib\\site-packages\\pandas\\io\\parsers\\readers.py:1620\u001b[0m, in \u001b[0;36mTextFileReader.__init__\u001b[1;34m(self, f, engine, **kwds)\u001b[0m\n\u001b[0;32m   1617\u001b[0m     \u001b[38;5;28mself\u001b[39m\u001b[38;5;241m.\u001b[39moptions[\u001b[38;5;124m\"\u001b[39m\u001b[38;5;124mhas_index_names\u001b[39m\u001b[38;5;124m\"\u001b[39m] \u001b[38;5;241m=\u001b[39m kwds[\u001b[38;5;124m\"\u001b[39m\u001b[38;5;124mhas_index_names\u001b[39m\u001b[38;5;124m\"\u001b[39m]\n\u001b[0;32m   1619\u001b[0m \u001b[38;5;28mself\u001b[39m\u001b[38;5;241m.\u001b[39mhandles: IOHandles \u001b[38;5;241m|\u001b[39m \u001b[38;5;28;01mNone\u001b[39;00m \u001b[38;5;241m=\u001b[39m \u001b[38;5;28;01mNone\u001b[39;00m\n\u001b[1;32m-> 1620\u001b[0m \u001b[38;5;28mself\u001b[39m\u001b[38;5;241m.\u001b[39m_engine \u001b[38;5;241m=\u001b[39m \u001b[38;5;28mself\u001b[39m\u001b[38;5;241m.\u001b[39m_make_engine(f, \u001b[38;5;28mself\u001b[39m\u001b[38;5;241m.\u001b[39mengine)\n",
      "File \u001b[1;32mh:\\Jonathan\\Softwares\\Anaconda\\NewProgram\\Lib\\site-packages\\pandas\\io\\parsers\\readers.py:1880\u001b[0m, in \u001b[0;36mTextFileReader._make_engine\u001b[1;34m(self, f, engine)\u001b[0m\n\u001b[0;32m   1878\u001b[0m     \u001b[38;5;28;01mif\u001b[39;00m \u001b[38;5;124m\"\u001b[39m\u001b[38;5;124mb\u001b[39m\u001b[38;5;124m\"\u001b[39m \u001b[38;5;129;01mnot\u001b[39;00m \u001b[38;5;129;01min\u001b[39;00m mode:\n\u001b[0;32m   1879\u001b[0m         mode \u001b[38;5;241m+\u001b[39m\u001b[38;5;241m=\u001b[39m \u001b[38;5;124m\"\u001b[39m\u001b[38;5;124mb\u001b[39m\u001b[38;5;124m\"\u001b[39m\n\u001b[1;32m-> 1880\u001b[0m \u001b[38;5;28mself\u001b[39m\u001b[38;5;241m.\u001b[39mhandles \u001b[38;5;241m=\u001b[39m get_handle(\n\u001b[0;32m   1881\u001b[0m     f,\n\u001b[0;32m   1882\u001b[0m     mode,\n\u001b[0;32m   1883\u001b[0m     encoding\u001b[38;5;241m=\u001b[39m\u001b[38;5;28mself\u001b[39m\u001b[38;5;241m.\u001b[39moptions\u001b[38;5;241m.\u001b[39mget(\u001b[38;5;124m\"\u001b[39m\u001b[38;5;124mencoding\u001b[39m\u001b[38;5;124m\"\u001b[39m, \u001b[38;5;28;01mNone\u001b[39;00m),\n\u001b[0;32m   1884\u001b[0m     compression\u001b[38;5;241m=\u001b[39m\u001b[38;5;28mself\u001b[39m\u001b[38;5;241m.\u001b[39moptions\u001b[38;5;241m.\u001b[39mget(\u001b[38;5;124m\"\u001b[39m\u001b[38;5;124mcompression\u001b[39m\u001b[38;5;124m\"\u001b[39m, \u001b[38;5;28;01mNone\u001b[39;00m),\n\u001b[0;32m   1885\u001b[0m     memory_map\u001b[38;5;241m=\u001b[39m\u001b[38;5;28mself\u001b[39m\u001b[38;5;241m.\u001b[39moptions\u001b[38;5;241m.\u001b[39mget(\u001b[38;5;124m\"\u001b[39m\u001b[38;5;124mmemory_map\u001b[39m\u001b[38;5;124m\"\u001b[39m, \u001b[38;5;28;01mFalse\u001b[39;00m),\n\u001b[0;32m   1886\u001b[0m     is_text\u001b[38;5;241m=\u001b[39mis_text,\n\u001b[0;32m   1887\u001b[0m     errors\u001b[38;5;241m=\u001b[39m\u001b[38;5;28mself\u001b[39m\u001b[38;5;241m.\u001b[39moptions\u001b[38;5;241m.\u001b[39mget(\u001b[38;5;124m\"\u001b[39m\u001b[38;5;124mencoding_errors\u001b[39m\u001b[38;5;124m\"\u001b[39m, \u001b[38;5;124m\"\u001b[39m\u001b[38;5;124mstrict\u001b[39m\u001b[38;5;124m\"\u001b[39m),\n\u001b[0;32m   1888\u001b[0m     storage_options\u001b[38;5;241m=\u001b[39m\u001b[38;5;28mself\u001b[39m\u001b[38;5;241m.\u001b[39moptions\u001b[38;5;241m.\u001b[39mget(\u001b[38;5;124m\"\u001b[39m\u001b[38;5;124mstorage_options\u001b[39m\u001b[38;5;124m\"\u001b[39m, \u001b[38;5;28;01mNone\u001b[39;00m),\n\u001b[0;32m   1889\u001b[0m )\n\u001b[0;32m   1890\u001b[0m \u001b[38;5;28;01massert\u001b[39;00m \u001b[38;5;28mself\u001b[39m\u001b[38;5;241m.\u001b[39mhandles \u001b[38;5;129;01mis\u001b[39;00m \u001b[38;5;129;01mnot\u001b[39;00m \u001b[38;5;28;01mNone\u001b[39;00m\n\u001b[0;32m   1891\u001b[0m f \u001b[38;5;241m=\u001b[39m \u001b[38;5;28mself\u001b[39m\u001b[38;5;241m.\u001b[39mhandles\u001b[38;5;241m.\u001b[39mhandle\n",
      "File \u001b[1;32mh:\\Jonathan\\Softwares\\Anaconda\\NewProgram\\Lib\\site-packages\\pandas\\io\\common.py:873\u001b[0m, in \u001b[0;36mget_handle\u001b[1;34m(path_or_buf, mode, encoding, compression, memory_map, is_text, errors, storage_options)\u001b[0m\n\u001b[0;32m    868\u001b[0m \u001b[38;5;28;01melif\u001b[39;00m \u001b[38;5;28misinstance\u001b[39m(handle, \u001b[38;5;28mstr\u001b[39m):\n\u001b[0;32m    869\u001b[0m     \u001b[38;5;66;03m# Check whether the filename is to be opened in binary mode.\u001b[39;00m\n\u001b[0;32m    870\u001b[0m     \u001b[38;5;66;03m# Binary mode does not support 'encoding' and 'newline'.\u001b[39;00m\n\u001b[0;32m    871\u001b[0m     \u001b[38;5;28;01mif\u001b[39;00m ioargs\u001b[38;5;241m.\u001b[39mencoding \u001b[38;5;129;01mand\u001b[39;00m \u001b[38;5;124m\"\u001b[39m\u001b[38;5;124mb\u001b[39m\u001b[38;5;124m\"\u001b[39m \u001b[38;5;129;01mnot\u001b[39;00m \u001b[38;5;129;01min\u001b[39;00m ioargs\u001b[38;5;241m.\u001b[39mmode:\n\u001b[0;32m    872\u001b[0m         \u001b[38;5;66;03m# Encoding\u001b[39;00m\n\u001b[1;32m--> 873\u001b[0m         handle \u001b[38;5;241m=\u001b[39m \u001b[38;5;28mopen\u001b[39m(\n\u001b[0;32m    874\u001b[0m             handle,\n\u001b[0;32m    875\u001b[0m             ioargs\u001b[38;5;241m.\u001b[39mmode,\n\u001b[0;32m    876\u001b[0m             encoding\u001b[38;5;241m=\u001b[39mioargs\u001b[38;5;241m.\u001b[39mencoding,\n\u001b[0;32m    877\u001b[0m             errors\u001b[38;5;241m=\u001b[39merrors,\n\u001b[0;32m    878\u001b[0m             newline\u001b[38;5;241m=\u001b[39m\u001b[38;5;124m\"\u001b[39m\u001b[38;5;124m\"\u001b[39m,\n\u001b[0;32m    879\u001b[0m         )\n\u001b[0;32m    880\u001b[0m     \u001b[38;5;28;01melse\u001b[39;00m:\n\u001b[0;32m    881\u001b[0m         \u001b[38;5;66;03m# Binary mode\u001b[39;00m\n\u001b[0;32m    882\u001b[0m         handle \u001b[38;5;241m=\u001b[39m \u001b[38;5;28mopen\u001b[39m(handle, ioargs\u001b[38;5;241m.\u001b[39mmode)\n",
      "\u001b[1;31mFileNotFoundError\u001b[0m: [Errno 2] No such file or directory: 'C:\\\\Users\\\\ARUL\\\\Documents\\\\EDUCATIONAL SHIT\\\\kuliah coy\\\\sem 1\\\\FP STATPROB\\\\imdb_top_1000.csv'"
     ]
    }
   ],
   "source": [
    "import os\n",
    "\n",
    "file_path = r'C:\\Users\\ARUL\\Documents\\EDUCATIONAL SHIT\\kuliah coy\\sem 1\\FP STATPROB\\imdb_top_1000.csv'\n",
    "data = pd.read_csv(file_path)\n",
    "\n",
    "data.head()"
   ]
  },
  {
   "cell_type": "markdown",
   "metadata": {},
   "source": [
    "Ini adalah data yang ditunjukkan oleh pandas dengan beberapa column yang tertera di dalam csv"
   ]
  },
  {
   "cell_type": "code",
   "execution_count": 3,
   "metadata": {},
   "outputs": [
    {
     "data": {
      "text/plain": [
       "(                                         Poster_Link  \\\n",
       " 0  https://m.media-amazon.com/images/M/MV5BMDFkYT...   \n",
       " 1  https://m.media-amazon.com/images/M/MV5BM2MyNj...   \n",
       " 2  https://m.media-amazon.com/images/M/MV5BMTMxNT...   \n",
       " 3  https://m.media-amazon.com/images/M/MV5BMWMwMG...   \n",
       " 4  https://m.media-amazon.com/images/M/MV5BMWU4N2...   \n",
       " \n",
       "                Series_Title Released_Year Certificate  Runtime  \\\n",
       " 0  The Shawshank Redemption          1994           A  142 min   \n",
       " 1             The Godfather          1972           A  175 min   \n",
       " 2           The Dark Knight          2008          UA  152 min   \n",
       " 3    The Godfather: Part II          1974           A  202 min   \n",
       " 4              12 Angry Men          1957           U   96 min   \n",
       " \n",
       "                   Genre  IMDB_Rating  \\\n",
       " 0                 Drama          9.3   \n",
       " 1          Crime, Drama          9.2   \n",
       " 2  Action, Crime, Drama          9.0   \n",
       " 3          Crime, Drama          9.0   \n",
       " 4          Crime, Drama          9.0   \n",
       " \n",
       "                                             Overview  Meta_score  \\\n",
       " 0  Two imprisoned men bond over a number of years...        80.0   \n",
       " 1  An organized crime dynasty's aging patriarch t...       100.0   \n",
       " 2  When the menace known as the Joker wreaks havo...        84.0   \n",
       " 3  The early life and career of Vito Corleone in ...        90.0   \n",
       " 4  A jury holdout attempts to prevent a miscarria...        96.0   \n",
       " \n",
       "                Director           Star1           Star2          Star3  \\\n",
       " 0        Frank Darabont     Tim Robbins  Morgan Freeman     Bob Gunton   \n",
       " 1  Francis Ford Coppola   Marlon Brando       Al Pacino     James Caan   \n",
       " 2     Christopher Nolan  Christian Bale    Heath Ledger  Aaron Eckhart   \n",
       " 3  Francis Ford Coppola       Al Pacino  Robert De Niro  Robert Duvall   \n",
       " 4          Sidney Lumet     Henry Fonda     Lee J. Cobb  Martin Balsam   \n",
       " \n",
       "             Star4  No_of_Votes        Gross  \n",
       " 0  William Sadler      2343110   28,341,469  \n",
       " 1    Diane Keaton      1620367  134,966,411  \n",
       " 2   Michael Caine      2303232  534,858,444  \n",
       " 3    Diane Keaton      1129952   57,300,000  \n",
       " 4    John Fiedler       689845    4,360,000  ,\n",
       " Index(['Poster_Link', 'Series_Title', 'Released_Year', 'Certificate',\n",
       "        'Runtime', 'Genre', 'IMDB_Rating', 'Overview', 'Meta_score', 'Director',\n",
       "        'Star1', 'Star2', 'Star3', 'Star4', 'No_of_Votes', 'Gross'],\n",
       "       dtype='object'))"
      ]
     },
     "execution_count": 3,
     "metadata": {},
     "output_type": "execute_result"
    }
   ],
   "source": [
    "data.head(), data.columns"
   ]
  },
  {
   "cell_type": "markdown",
   "metadata": {},
   "source": [
    "sedangkan ini adalah data yang sudah dipecah dengan baris dan kolumn yang tertera, ini nantinya akan di analisis.\n",
    "berdasarkan dataset ini, kolom yang tertera antara lain:\n",
    "1. Poster_Link\n",
    "2. Series_Title, Relesed_Year, Certificate, Runtime\n",
    "3. Genre, IMDB_Rating\n",
    "4. Meta_score\n",
    "5. Director, Star1 , Star2, Star3, Star4\n",
    "6. No_of_Votes\n",
    "7. Gross"
   ]
  },
  {
   "cell_type": "code",
   "execution_count": 4,
   "metadata": {
    "id": "5JE5NMoS88vs"
   },
   "outputs": [],
   "source": [
    "#analisis distribusi data (zelig)"
   ]
  },
  {
   "cell_type": "markdown",
   "metadata": {},
   "source": [
    "Analisis Korelasi,\n",
    "menggunakan beberapa kolom yang relevan, seperti:\n",
    "1. IMDB_Rating\n",
    "2. Meta_score\n",
    "3. No_of_Votes\n",
    "4. Gross (pendapatan film)\n",
    "5. Runtime\n",
    "\n",
    "sebelum dianalisis, kolom Gross perlu diubah ke dalam format numerik agar dapat dianalisis dan mendapatkan nilai dari setiap kolom runtime.\n",
    "Berikut adalah data yang sudah diformatkan dan dianaliskan korelasinya:"
   ]
  },
  {
   "cell_type": "code",
   "execution_count": 5,
   "metadata": {
    "id": "ULfmVB7F9GUL"
   },
   "outputs": [
    {
     "name": "stderr",
     "output_type": "stream",
     "text": [
      "<>:3: SyntaxWarning: invalid escape sequence '\\d'\n",
      "<>:3: SyntaxWarning: invalid escape sequence '\\d'\n",
      "C:\\Users\\ARUL\\AppData\\Local\\Temp\\ipykernel_22340\\4252971347.py:3: SyntaxWarning: invalid escape sequence '\\d'\n",
      "  data['Runtime'] = data['Runtime'].str.extract('(\\d+)').astype(float)\n"
     ]
    },
    {
     "data": {
      "text/html": [
       "<div>\n",
       "<style scoped>\n",
       "    .dataframe tbody tr th:only-of-type {\n",
       "        vertical-align: middle;\n",
       "    }\n",
       "\n",
       "    .dataframe tbody tr th {\n",
       "        vertical-align: top;\n",
       "    }\n",
       "\n",
       "    .dataframe thead th {\n",
       "        text-align: right;\n",
       "    }\n",
       "</style>\n",
       "<table border=\"1\" class=\"dataframe\">\n",
       "  <thead>\n",
       "    <tr style=\"text-align: right;\">\n",
       "      <th></th>\n",
       "      <th>IMDB_Rating</th>\n",
       "      <th>Meta_score</th>\n",
       "      <th>No_of_Votes</th>\n",
       "      <th>Gross</th>\n",
       "      <th>Runtime</th>\n",
       "    </tr>\n",
       "  </thead>\n",
       "  <tbody>\n",
       "    <tr>\n",
       "      <th>IMDB_Rating</th>\n",
       "      <td>1.000000</td>\n",
       "      <td>0.268531</td>\n",
       "      <td>0.494979</td>\n",
       "      <td>0.095923</td>\n",
       "      <td>0.243096</td>\n",
       "    </tr>\n",
       "    <tr>\n",
       "      <th>Meta_score</th>\n",
       "      <td>0.268531</td>\n",
       "      <td>1.000000</td>\n",
       "      <td>-0.018507</td>\n",
       "      <td>-0.030587</td>\n",
       "      <td>-0.031452</td>\n",
       "    </tr>\n",
       "    <tr>\n",
       "      <th>No_of_Votes</th>\n",
       "      <td>0.494979</td>\n",
       "      <td>-0.018507</td>\n",
       "      <td>1.000000</td>\n",
       "      <td>0.574393</td>\n",
       "      <td>0.173264</td>\n",
       "    </tr>\n",
       "    <tr>\n",
       "      <th>Gross</th>\n",
       "      <td>0.095923</td>\n",
       "      <td>-0.030587</td>\n",
       "      <td>0.574393</td>\n",
       "      <td>1.000000</td>\n",
       "      <td>0.139671</td>\n",
       "    </tr>\n",
       "    <tr>\n",
       "      <th>Runtime</th>\n",
       "      <td>0.243096</td>\n",
       "      <td>-0.031452</td>\n",
       "      <td>0.173264</td>\n",
       "      <td>0.139671</td>\n",
       "      <td>1.000000</td>\n",
       "    </tr>\n",
       "  </tbody>\n",
       "</table>\n",
       "</div>"
      ],
      "text/plain": [
       "             IMDB_Rating  Meta_score  No_of_Votes     Gross   Runtime\n",
       "IMDB_Rating     1.000000    0.268531     0.494979  0.095923  0.243096\n",
       "Meta_score      0.268531    1.000000    -0.018507 -0.030587 -0.031452\n",
       "No_of_Votes     0.494979   -0.018507     1.000000  0.574393  0.173264\n",
       "Gross           0.095923   -0.030587     0.574393  1.000000  0.139671\n",
       "Runtime         0.243096   -0.031452     0.173264  0.139671  1.000000"
      ]
     },
     "execution_count": 5,
     "metadata": {},
     "output_type": "execute_result"
    }
   ],
   "source": [
    "#analisis korelasi data (irul)\n",
    "data['Gross'] = data['Gross'].replace(',', '', regex=True).replace('None', None).astype(float)\n",
    "data['Runtime'] = data['Runtime'].str.extract('(\\d+)').astype(float)\n",
    "\n",
    "numeric_data = data[['IMDB_Rating', 'Meta_score', 'No_of_Votes', 'Gross', 'Runtime']]\n",
    "correlation_matrix = numeric_data.corr()\n",
    "\n",
    "correlation_matrix"
   ]
  },
  {
   "cell_type": "markdown",
   "metadata": {},
   "source": []
  },
  {
   "cell_type": "code",
   "execution_count": 35,
   "metadata": {},
   "outputs": [
    {
     "data": {
      "image/png": "[encoded data removed]",
      "text/plain": [
       "<Figure size 800x600 with 2 Axes>"
      ]
     },
     "metadata": {},
     "output_type": "display_data"
    }
   ],
   "source": [
    "plt.figure(figsize=(8,6))\n",
    "sns.heatmap(correlation_matrix, annot=True, cmap='coolwarm', fmt='.2f')\n",
    "plt.title('Heatmap Korelasi')\n",
    "plt.show()"
   ]
  },
  {
   "cell_type": "markdown",
   "metadata": {},
   "source": [
    "Dari visual Heatmap Korelasi ini menunjukkan bahwa\n",
    "1. Korelasi antara No_of_Votes (angka vote) dengan Gross(angka penjualan) menunjukkan hubungan positif sedang.\n",
    "\n",
    "2. Korelasi antara No_of_Votes (angka vote) dengan IMDB_Rating menunjukkan hubungan positif sedang.\n",
    "\n",
    "3. Korelasi antara IMDB_Rating dengan "
   ]
  },
  {
   "cell_type": "code",
   "execution_count": null,
   "metadata": {
    "id": "qQ3EPSxUA6Hp"
   },
   "outputs": [],
   "source": [
    "#analisis popularitas data (kaisar)"
   ]
  }
 ],
 "metadata": {
  "colab": {
   "provenance": []
  },
  "kernelspec": {
   "display_name": "base",
   "language": "python",
   "name": "python3"
  },
  "language_info": {
   "codemirror_mode": {
    "name": "ipython",
    "version": 3
   },
   "file_extension": ".py",
   "mimetype": "text/x-python",
   "name": "python",
   "nbconvert_exporter": "python",
   "pygments_lexer": "ipython3",
   "version": "3.12.4"
  }
 },
 "nbformat": 4,
 "nbformat_minor": 4
}
